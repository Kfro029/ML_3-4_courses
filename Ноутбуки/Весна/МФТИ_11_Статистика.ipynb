{
  "cells": [
    {
      "cell_type": "markdown",
      "metadata": {
        "id": "8iBnvySSZij_"
      },
      "source": [
        "# Анализ данных и проверка статистических гипотез.\n",
        "\n",
        "**План занятия**\n",
        "\n",
        "* [Проверка статистических гипотез](#stat_hypothesis_test)\n",
        "* [Критерий Шапиро-Уилка](#shapiro_criterion)\n",
        "* [Критерий Стьюдента (t-test), двухвыборочный](#student_criterion)\n",
        "* [Критерий хи-квадрат (критерий согласия Пирсона)](#pirson_criterion)\n",
        "* [Доверительные интервалы](#conf_interval)"
      ]
    },
    {
      "cell_type": "markdown",
      "metadata": {
        "id": "FzIABW16ZikH"
      },
      "source": [
        "### Проверка статистических гипотез<a class=\"anchor\" id=\"stat_hypothesis_test\"></a>"
      ]
    },
    {
      "cell_type": "markdown",
      "metadata": {
        "id": "xEylZdJzZikI"
      },
      "source": [
        "**Методика проверки статистических гипотез**\n",
        "\n",
        "1. Cформулировать гипотезы $\\normalsize H_0$ и $\\normalsize H_1$\n",
        "2. Выбрать подходящий статистический критерий, исходя из сформулированных гипотез, размера выборки(ок) и т.д.\n",
        "3. Зафиксировать уровень значимости $\\normalsize \\alpha$\n",
        "4. Рассчитать значение статистики $\\normalsize T$ и достигаемые уровень значимости $\\normalsize p-value^* = P(T \\ge t \\: | \\: H_0)$\n",
        "5. Если $\\normalsize p-value < \\alpha$, $\\normalsize H_0$ отвергается в пользу $\\normalsize H_1$, т.к вероятность получить такие данные (выборку), при верности $\\normalsize H_0$, крайне мала.\n",
        "\n",
        "*достигаемый уровень значимости, p-value* - это вероятность, при справедливости нулевой гипотезы, получить такое же распределение статистики, как в эксперименте, или ещё более экстремальное.\n"
      ]
    },
    {
      "cell_type": "markdown",
      "metadata": {
        "id": "HeLMm_mwWdYf"
      },
      "source": [
        "[Видео](https://youtu.be/9jW9G8MO4PQ) с объяснениями p value на собаке.\n",
        "<img src='https://drive.google.com/uc?id=1y0g4YeXjH-CnOJV3zhj6LLBfjhgQ2oCr'>"
      ]
    },
    {
      "cell_type": "markdown",
      "metadata": {
        "id": "vEZ_vprwZikJ"
      },
      "source": [
        "**Ошибки первого и второго рода**\n",
        "\n",
        "<img src='https://drive.google.com/uc?id=16sIvImkH2BK2n3OUBUWrT4z8QFC4nyL8'>\n",
        "\n",
        "Ошибка первого рода — когда нулевая гипотеза отвергается, хотя на самом деле она верна.<br>\n",
        "Ошибка второго рода — когда нулевая гипотеза принимается, хотя на самом деле она не верна.<br>\n",
        "\n",
        "|$H_0$             |**верная**                                    |**ложная**                                 |\n",
        "|:----------------:|:--------------------------------------------:|:-----------------------------------------:|\n",
        "|**принимается**   |$H_0$ верно принята                           |$H_0$ неверно принята (ошибка второго рода)|\n",
        "|**отклоняется**   |$H_0$ неверно отвергнута (ошибка первого рода)|$H_0$ верно отвергнута                     |\n",
        "\n",
        "В механизме проверки гипотез ошибки первого и второго рода неравнозначны, ошибка первого рода критичнее, любой корректный статистический критерий должен обеспечивать вероятность ошибки первого рода не больше, чем $\\normalsize \\alpha$,<br>\n",
        "$\\normalsize P(H_0 \\: отвергнута \\: | \\: H_0) = P (p \\le \\alpha \\: | \\: H_0) \\le \\alpha$\n",
        "\n",
        "Ошибка второго рода связана с понятием мощности статистического критерия,<br>\n",
        "$\\normalsize pow = P(H_0 \\: отвергнута \\: | \\: H_1) = 1 - P(H_0 \\: принята \\: | \\: H_1)$ - вероятность отклонить нулевую гипотезу, при верности альтернативы."
      ]
    },
    {
      "cell_type": "markdown",
      "metadata": {
        "id": "3oCD5M7MZikJ"
      },
      "source": [
        "### Критерий Шапиро-Уилка<a class=\"anchor\" id=\"shapiro_criterion\"></a>"
      ]
    },
    {
      "cell_type": "markdown",
      "metadata": {
        "id": "3WHP0TP3ZikK"
      },
      "source": [
        "Данный критерий проверяет гипотезу о том, что некоторая случайная величина имеет нормальное распределение (распределение Гаусса). Необходимость проверять случайную величину на \"нормальность\", обусловлена тем, что многие статистические критерии и  аналитические методы из мат. статистики ориентированы на выборки из нормально распределённых случайных величин и перед их использование необходимо убедиться в том, что закон распределения приближен к нормальному.\n",
        "\n",
        "Помимо этого нормально распределённые случайные величины обладают некоторыми свойствами, которые могут быть полезны в процессе работы с ними."
      ]
    },
    {
      "cell_type": "markdown",
      "metadata": {
        "id": "-obIh0qpZikL"
      },
      "source": [
        "**Нормальное распределение**\n",
        "1. Унимодально\n",
        "2. Симметрично\n",
        "3. Подчиняется вероятностному распределению\n",
        "    \n",
        "  - $\\text{ от }-\\sigma \\text{ до } \\sigma $ ~ 68%\n",
        "  - $\\text{ от }-2\\sigma \\text{ до } 2\\sigma $ ~ 95%\n",
        "  - $\\text{ от }-3\\sigma \\text{ до } 3\\sigma $ ~ 99%"
      ]
    },
    {
      "cell_type": "markdown",
      "metadata": {
        "id": "UnICSmq1ZikM"
      },
      "source": [
        "<img src=\"https://drive.google.com/uc?id=1fw5h3T2NnLRGh_zZlUTZRSyFsAfaIgs6\">"
      ]
    },
    {
      "cell_type": "markdown",
      "metadata": {
        "id": "cqCcqjXQZikN"
      },
      "source": [
        "**Формализованное описание**\n",
        "\n",
        "$\\large x^n = (x_1, .. , x_n), \\: x^n \\in X$<br>\n",
        "\n",
        "$\\large H_0: \\: X \\sim N(\\mu, \\sigma^2)$<br>\n",
        "$\\large H_1: \\: H_0 \\: неверна$<br>\n",
        "\n",
        "$\\large W(x^n) = \\frac{(\\sum_{i=1}^n a_i x_i)^2}{\\sum_{i=1}^n (x_i - \\bar{x})^2} $<br>\n",
        "\n",
        "Нулевое распределение статистики - табличное."
      ]
    },
    {
      "cell_type": "markdown",
      "metadata": {
        "id": "HSdE4mm4ZikN"
      },
      "source": [
        "### Критерий Стьюдента (t-test), двухвыборочный<a class=\"anchor\" id=\"student_criterion\"></a>"
      ]
    },
    {
      "cell_type": "markdown",
      "metadata": {
        "id": "FNBx6o9BZikO"
      },
      "source": [
        "Критерий Стьюдента — общее название для статистических тестов, в которых статистика критерия имеет распределение Стьюдента.<br> Наиболее часто данные критерии применяются для проверки равенства средних значений (мат. ожиданий) в двух выборках."
      ]
    },
    {
      "cell_type": "markdown",
      "metadata": {
        "id": "yuPn85BLZikP"
      },
      "source": [
        "**Формализованное описание**\n",
        "\n",
        "$\\large x_1^{n_1} = (x_{11}, .. , x_{1{n_1}}), \\: x_1^{n_1} \\in X_1, \\: X_1 \\sim N(\\mu_1, \\sigma_1^2)$<br>\n",
        "$\\large x_2^{n_2} = (x_{21}, .. , x_{2{n_1}}), \\: x_2^{n_2} \\in X_2, \\: X_2 \\sim N(\\mu_2, \\sigma_2^2)$<br>\n",
        "\n",
        "$\\large H_0: \\: \\mu_1 = \\mu_2$<br>\n",
        "$\\large H_1: \\: \\mu_1 \\ne \\mu_2$<br>\n",
        "\n",
        "$\\large T(x_1^{n_1}, x_2^{n_2}) = \\frac{\\bar{x_1} \\: - \\: \\bar{x_2}}{\\sqrt{\\frac{\\sigma_1^2}{n_1} + \\frac{\\sigma_2^2}{n_2}}}$<br>"
      ]
    },
    {
      "cell_type": "markdown",
      "metadata": {
        "id": "2AONFygrZikP"
      },
      "source": [
        "**Условия применения**\n",
        "\n",
        "* нормальное распределение, отсутствие выбросов\n",
        "* размер выборки не меньше 30 наблюдений\n",
        "\n",
        "Если данные не отвечают этим критериям, то применяется *U критерий Манна-Уитни* - это непараметрический тест, в котором для расчета используются не исходные данные, а их ранговые позиции."
      ]
    },
    {
      "cell_type": "markdown",
      "metadata": {
        "id": "3Up2lHhXWdYm"
      },
      "source": [
        "<img src='https://drive.google.com/uc?id=1qw2avk37r5KFyycK5daHvm_Y9B6W2T3L'>"
      ]
    },
    {
      "cell_type": "markdown",
      "metadata": {
        "id": "_80ykonBZikR"
      },
      "source": [
        "### Критерий хи-квадрат (критерий согласия Пирсона)<a class=\"anchor\" id=\"pirson_criterion\"></a>"
      ]
    },
    {
      "cell_type": "markdown",
      "metadata": {
        "id": "7Wik9Bi7ZikS"
      },
      "source": [
        "Критерий хи-квадрат позволяет оценить значимость различий между фактическим (выявленным в результате исследования) количеством исходов и теоретическим количеством, которое можно ожидать в изучаемых группах при справедливости нулевой гипотезы. Выражаясь проще, метод позволяет оценить статистическую значимость различий двух или нескольких относительных показателей (частот, долей)."
      ]
    },
    {
      "cell_type": "markdown",
      "metadata": {
        "id": "ielPMv5MZikS"
      },
      "source": [
        "**Формализованное описание**\n",
        "\n",
        "$\\large x^n = (x_1, .. , x_n), \\: x^n \\in X$<br>\n",
        "\n",
        "$\\large H_0: \\: Эмпирические \\: (наблюдаемые) \\: и \\: теоретические \\: (ожидаемые) \\: частоты \\: согласованы$ <br>\n",
        "$\\large H_1: \\: H_0 \\: неверна$<br>\n",
        "\n",
        "$\\large \\chi^2(x^n) = \\sum_{i=1}^K \\frac{(O_i - E_i)^2}{E_i}$<br>\n",
        "$O$ (Observed) - наблюдаемые частоты<br>\n",
        "$E$ (Expected) - ожидаемые частоты<br>\n",
        "$K$ - количество оцениваемых частот\n",
        "\n",
        "$\\large \\chi^2(x^n) \\sim \\chi^2$"
      ]
    },
    {
      "cell_type": "markdown",
      "metadata": {
        "id": "mzeYuu0_ZikT"
      },
      "source": [
        "**Условия применения**\n",
        "\n",
        "Сопоставляемые группы должны быть независимыми, то есть критерий хи-квадрат не должен применяться при сравнении наблюдений \"до-после\" или связанных пар. Аналог для зависимых выборок - *тест Мак-Немара* или *Q-критерий Кохрена* для сравнения трех и более групп.\n",
        "\n",
        "Если в ячейке меньше 10 наблюдений, применяется *поправка Йетса*.\n",
        "\n",
        "Если меньше 5, то вместо хи-квадрат используется *точный тест Фишера*."
      ]
    },
    {
      "cell_type": "markdown",
      "metadata": {
        "id": "hKMfhqNmWdYo"
      },
      "source": [
        "<img src='https://drive.google.com/uc?id=1Dyjqxf7zXn8Fnl3otdrV_kaL3HN2Psu-'>"
      ]
    },
    {
      "cell_type": "markdown",
      "metadata": {
        "id": "Epgbf1OaZikV"
      },
      "source": [
        "### Доверительные интервалы<a class=\"anchor\" id=\"conf_interval\"></a>"
      ]
    },
    {
      "cell_type": "markdown",
      "metadata": {
        "id": "VNNzTll1ZikW"
      },
      "source": [
        "Вид интервальной оценки, которая задаёт числовые границы, в которых, с определённой вероятностью, находится истинное значение оцениваемого параметра.\n",
        "\n",
        "**Порядок расчета доверительного интервала (для мат. ожидания)**\n",
        "\n",
        "1. Задать уровень достоверности (confidence level), $\\normalsize \\alpha = 95\\% = 0.95$\n",
        "2. Найдите по таблице Z-оценок или рассчитать коэффициент достоверности (confidence coefficient) - $\\normalsize Z_{\\alpha/2}$, для $\\normalsize \\alpha = 0.95, Z_{\\alpha/2} = 1.96$\n",
        "3. Рассчитать доверительный интервал (confidence interval), $\\normalsize CI = \\bar{x} \\pm Z_{\\alpha/2} \\frac{\\sigma}{\\sqrt{n}}$,<br>\n",
        "где $\\normalsize \\bar{x}$ - выборочное среднее, $\\normalsize \\sigma$ - стандартное отклонение, $\\normalsize n$ - размер выборки"
      ]
    },
    {
      "cell_type": "markdown",
      "metadata": {
        "id": "nxFIYnnuWdYo"
      },
      "source": [
        "<img src='https://drive.google.com/uc?id=1yiQOaY5uKx4yKwXwgphI_4JMcLEuJ0RZ'>"
      ]
    },
    {
      "cell_type": "markdown",
      "metadata": {
        "id": "BEMjEcdtZikX"
      },
      "source": [
        "# Практическая часть"
      ]
    },
    {
      "cell_type": "markdown",
      "metadata": {
        "id": "-_6gMCfOZikY"
      },
      "source": [
        "**Подключение библиотек и скриптов**"
      ]
    },
    {
      "cell_type": "code",
      "execution_count": 1,
      "metadata": {
        "id": "4Q4oSe8QZikZ"
      },
      "outputs": [],
      "source": [
        "import numpy as np\n",
        "import pandas as pd\n",
        "\n",
        "from scipy.stats import shapiro\n",
        "from scipy.stats import probplot\n",
        "from scipy.stats import mannwhitneyu\n",
        "from scipy.stats import chi2_contingency\n",
        "\n",
        "import seaborn as sns\n",
        "from matplotlib import pyplot as plt"
      ]
    },
    {
      "cell_type": "markdown",
      "metadata": {
        "id": "gvNphLXfZikf"
      },
      "source": [
        "**Пути к директориям и файлам**"
      ]
    },
    {
      "cell_type": "code",
      "source": [
        "!wget 'https://drive.google.com/uc?id=1EGRT47uuYleEbPHCLgRP8rN5eHXLGyoV' -O training_project_data.csv"
      ],
      "metadata": {
        "id": "tu6rhGk2XU9a",
        "colab": {
          "base_uri": "https://localhost:8080/"
        },
        "outputId": "b6aa50bb-85d2-4a64-af4b-87f9b473c524"
      },
      "execution_count": 2,
      "outputs": [
        {
          "output_type": "stream",
          "name": "stdout",
          "text": [
            "--2024-06-04 07:42:40--  https://drive.google.com/uc?id=1EGRT47uuYleEbPHCLgRP8rN5eHXLGyoV\n",
            "Resolving drive.google.com (drive.google.com)... 142.251.2.100, 142.251.2.138, 142.251.2.139, ...\n",
            "Connecting to drive.google.com (drive.google.com)|142.251.2.100|:443... connected.\n",
            "HTTP request sent, awaiting response... 303 See Other\n",
            "Location: https://drive.usercontent.google.com/download?id=1EGRT47uuYleEbPHCLgRP8rN5eHXLGyoV [following]\n",
            "--2024-06-04 07:42:40--  https://drive.usercontent.google.com/download?id=1EGRT47uuYleEbPHCLgRP8rN5eHXLGyoV\n",
            "Resolving drive.usercontent.google.com (drive.usercontent.google.com)... 142.251.2.132, 2607:f8b0:4023:c0d::84\n",
            "Connecting to drive.usercontent.google.com (drive.usercontent.google.com)|142.251.2.132|:443... connected.\n",
            "HTTP request sent, awaiting response... 200 OK\n",
            "Length: 1169497 (1.1M) [application/octet-stream]\n",
            "Saving to: ‘training_project_data.csv’\n",
            "\n",
            "training_project_da 100%[===================>]   1.12M  --.-KB/s    in 0.1s    \n",
            "\n",
            "2024-06-04 07:42:41 (9.75 MB/s) - ‘training_project_data.csv’ saved [1169497/1169497]\n",
            "\n"
          ]
        }
      ]
    },
    {
      "cell_type": "code",
      "execution_count": 3,
      "metadata": {
        "id": "RPnk2tn8Zikg"
      },
      "outputs": [],
      "source": [
        "DATASET_PATH = 'training_project_data.csv'"
      ]
    },
    {
      "cell_type": "markdown",
      "metadata": {
        "id": "lCeRjEAQZikj"
      },
      "source": [
        " Загрузка данных\n",
        "\n",
        "**Описание базового датасета**\n",
        "\n",
        "* **LIMIT_BAL** - Сумма предоставленного кредита\n",
        "* **SEX** - Пол (1=мужчина, 2=женщина)\n",
        "* **EDUCATION** - Образование (1=аспирантура, 2=университет, 3=старшая школа, 4=прочее, 5=неизвестно, 6=неизвестно)\n",
        "* **MARRIAGE** - Семейное положение (1=женат/замужен, 2=не женат/не замуженм, 3=прочее)\n",
        "* **AGE** - Возраст (в годах)\n",
        "* **PAY_1** - Статус погашения в Сентябре (-1=погашен полностью, 0=погашен частично, 1=отсрочка платежа на один месяц, .., 3=отсрочка платежа на три месяца и более)\n",
        "* **PAY_2** - Статус погашения в Августе\n",
        "* **PAY_3** - Статус погашения в Июле\n",
        "* **PAY_4** - Статус погашения в Июне\n",
        "* **PAY_5** - Статус погашения в Мае\n",
        "* **PAY_6** - Статус погашения в Апреле\n",
        "* **BILL_AMT1** - Сумма выписки по счету в Сентябре\n",
        "* **BILL_AMT2** - Сумма выписки по счету в Августе\n",
        "* **BILL_AMT3** - Сумма выписки по счету в Июле\n",
        "* **BILL_AMT4** - Сумма выписки по счету в Июне\n",
        "* **BILL_AMT5** - Сумма выписки по счету в Мае\n",
        "* **BILL_AMT6** - Сумма выписки по счету в Апреле\n",
        "* **PAY_AMT1** - Сумма предыдущего платежа в Сентябре\n",
        "* **PAY_AMT2** - Сумма предыдущего платежа в Августе\n",
        "* **PAY_AMT3** - Сумма предыдущего платежа в Июле\n",
        "* **PAY_AMT4** - Сумма предыдущего платежа в Июне\n",
        "* **PAY_AMT5** - Сумма предыдущего платежа в Мае\n",
        "* **PAY_AMT6** - Сумма предыдущего платежа в Апреле\n",
        "* **NEXT_MONTH_DEFAULT** - Просрочка платежа в следующем месяце (1=да, 0=нет)"
      ]
    },
    {
      "cell_type": "code",
      "execution_count": 4,
      "metadata": {
        "colab": {
          "base_uri": "https://localhost:8080/",
          "height": 255
        },
        "id": "Sj533MuKZikl",
        "outputId": "547e42cd-c849-4525-9b4a-fcf50c9d8d48"
      },
      "outputs": [
        {
          "output_type": "execute_result",
          "data": {
            "text/plain": [
              "   LIMIT_BAL  SEX  EDUCATION  MARRIAGE  AGE  PAY_1  PAY_2  PAY_3  PAY_4  \\\n",
              "0   150000.0    2          2         2   24      1      2      0      0   \n",
              "1    50000.0    2          3         1   46      3      3      3      3   \n",
              "2   150000.0    2          2         1   41     -1     -1     -1     -1   \n",
              "3   150000.0    2          2         2   35      0      0      0      0   \n",
              "4    70000.0    2          1         1   35      1      2      2      2   \n",
              "\n",
              "   PAY_5  ...  BILL_AMT4  BILL_AMT5  BILL_AMT6  PAY_AMT1  PAY_AMT2  PAY_AMT3  \\\n",
              "0      0  ...    17853.0    34527.0    28277.0       0.0    2145.0   10000.0   \n",
              "1      2  ...    30748.0    30162.0    30016.0       0.0       0.0       0.0   \n",
              "2      0  ...     6784.0     6923.0    14116.0       0.0       0.0    6784.0   \n",
              "3      0  ...    55182.0    48983.0    50136.0    3500.0    2000.0   20000.0   \n",
              "4      2  ...    47026.0    45971.0    47573.0       0.0    6500.0    1800.0   \n",
              "\n",
              "   PAY_AMT4  PAY_AMT5  PAY_AMT6  NEXT_MONTH_DEFAULT  \n",
              "0   22000.0    3000.0    5093.0                   0  \n",
              "1       0.0    3100.0     798.0                   1  \n",
              "2     159.0     167.0     760.0                   0  \n",
              "3    2000.0    2000.0    2000.0                   0  \n",
              "4       0.0    2500.0    2000.0                   0  \n",
              "\n",
              "[5 rows x 24 columns]"
            ],
            "text/html": [
              "\n",
              "  <div id=\"df-3da7b2ec-a6bf-4843-b48e-dd6331b27017\" class=\"colab-df-container\">\n",
              "    <div>\n",
              "<style scoped>\n",
              "    .dataframe tbody tr th:only-of-type {\n",
              "        vertical-align: middle;\n",
              "    }\n",
              "\n",
              "    .dataframe tbody tr th {\n",
              "        vertical-align: top;\n",
              "    }\n",
              "\n",
              "    .dataframe thead th {\n",
              "        text-align: right;\n",
              "    }\n",
              "</style>\n",
              "<table border=\"1\" class=\"dataframe\">\n",
              "  <thead>\n",
              "    <tr style=\"text-align: right;\">\n",
              "      <th></th>\n",
              "      <th>LIMIT_BAL</th>\n",
              "      <th>SEX</th>\n",
              "      <th>EDUCATION</th>\n",
              "      <th>MARRIAGE</th>\n",
              "      <th>AGE</th>\n",
              "      <th>PAY_1</th>\n",
              "      <th>PAY_2</th>\n",
              "      <th>PAY_3</th>\n",
              "      <th>PAY_4</th>\n",
              "      <th>PAY_5</th>\n",
              "      <th>...</th>\n",
              "      <th>BILL_AMT4</th>\n",
              "      <th>BILL_AMT5</th>\n",
              "      <th>BILL_AMT6</th>\n",
              "      <th>PAY_AMT1</th>\n",
              "      <th>PAY_AMT2</th>\n",
              "      <th>PAY_AMT3</th>\n",
              "      <th>PAY_AMT4</th>\n",
              "      <th>PAY_AMT5</th>\n",
              "      <th>PAY_AMT6</th>\n",
              "      <th>NEXT_MONTH_DEFAULT</th>\n",
              "    </tr>\n",
              "  </thead>\n",
              "  <tbody>\n",
              "    <tr>\n",
              "      <th>0</th>\n",
              "      <td>150000.0</td>\n",
              "      <td>2</td>\n",
              "      <td>2</td>\n",
              "      <td>2</td>\n",
              "      <td>24</td>\n",
              "      <td>1</td>\n",
              "      <td>2</td>\n",
              "      <td>0</td>\n",
              "      <td>0</td>\n",
              "      <td>0</td>\n",
              "      <td>...</td>\n",
              "      <td>17853.0</td>\n",
              "      <td>34527.0</td>\n",
              "      <td>28277.0</td>\n",
              "      <td>0.0</td>\n",
              "      <td>2145.0</td>\n",
              "      <td>10000.0</td>\n",
              "      <td>22000.0</td>\n",
              "      <td>3000.0</td>\n",
              "      <td>5093.0</td>\n",
              "      <td>0</td>\n",
              "    </tr>\n",
              "    <tr>\n",
              "      <th>1</th>\n",
              "      <td>50000.0</td>\n",
              "      <td>2</td>\n",
              "      <td>3</td>\n",
              "      <td>1</td>\n",
              "      <td>46</td>\n",
              "      <td>3</td>\n",
              "      <td>3</td>\n",
              "      <td>3</td>\n",
              "      <td>3</td>\n",
              "      <td>2</td>\n",
              "      <td>...</td>\n",
              "      <td>30748.0</td>\n",
              "      <td>30162.0</td>\n",
              "      <td>30016.0</td>\n",
              "      <td>0.0</td>\n",
              "      <td>0.0</td>\n",
              "      <td>0.0</td>\n",
              "      <td>0.0</td>\n",
              "      <td>3100.0</td>\n",
              "      <td>798.0</td>\n",
              "      <td>1</td>\n",
              "    </tr>\n",
              "    <tr>\n",
              "      <th>2</th>\n",
              "      <td>150000.0</td>\n",
              "      <td>2</td>\n",
              "      <td>2</td>\n",
              "      <td>1</td>\n",
              "      <td>41</td>\n",
              "      <td>-1</td>\n",
              "      <td>-1</td>\n",
              "      <td>-1</td>\n",
              "      <td>-1</td>\n",
              "      <td>0</td>\n",
              "      <td>...</td>\n",
              "      <td>6784.0</td>\n",
              "      <td>6923.0</td>\n",
              "      <td>14116.0</td>\n",
              "      <td>0.0</td>\n",
              "      <td>0.0</td>\n",
              "      <td>6784.0</td>\n",
              "      <td>159.0</td>\n",
              "      <td>167.0</td>\n",
              "      <td>760.0</td>\n",
              "      <td>0</td>\n",
              "    </tr>\n",
              "    <tr>\n",
              "      <th>3</th>\n",
              "      <td>150000.0</td>\n",
              "      <td>2</td>\n",
              "      <td>2</td>\n",
              "      <td>2</td>\n",
              "      <td>35</td>\n",
              "      <td>0</td>\n",
              "      <td>0</td>\n",
              "      <td>0</td>\n",
              "      <td>0</td>\n",
              "      <td>0</td>\n",
              "      <td>...</td>\n",
              "      <td>55182.0</td>\n",
              "      <td>48983.0</td>\n",
              "      <td>50136.0</td>\n",
              "      <td>3500.0</td>\n",
              "      <td>2000.0</td>\n",
              "      <td>20000.0</td>\n",
              "      <td>2000.0</td>\n",
              "      <td>2000.0</td>\n",
              "      <td>2000.0</td>\n",
              "      <td>0</td>\n",
              "    </tr>\n",
              "    <tr>\n",
              "      <th>4</th>\n",
              "      <td>70000.0</td>\n",
              "      <td>2</td>\n",
              "      <td>1</td>\n",
              "      <td>1</td>\n",
              "      <td>35</td>\n",
              "      <td>1</td>\n",
              "      <td>2</td>\n",
              "      <td>2</td>\n",
              "      <td>2</td>\n",
              "      <td>2</td>\n",
              "      <td>...</td>\n",
              "      <td>47026.0</td>\n",
              "      <td>45971.0</td>\n",
              "      <td>47573.0</td>\n",
              "      <td>0.0</td>\n",
              "      <td>6500.0</td>\n",
              "      <td>1800.0</td>\n",
              "      <td>0.0</td>\n",
              "      <td>2500.0</td>\n",
              "      <td>2000.0</td>\n",
              "      <td>0</td>\n",
              "    </tr>\n",
              "  </tbody>\n",
              "</table>\n",
              "<p>5 rows × 24 columns</p>\n",
              "</div>\n",
              "    <div class=\"colab-df-buttons\">\n",
              "\n",
              "  <div class=\"colab-df-container\">\n",
              "    <button class=\"colab-df-convert\" onclick=\"convertToInteractive('df-3da7b2ec-a6bf-4843-b48e-dd6331b27017')\"\n",
              "            title=\"Convert this dataframe to an interactive table.\"\n",
              "            style=\"display:none;\">\n",
              "\n",
              "  <svg xmlns=\"http://www.w3.org/2000/svg\" height=\"24px\" viewBox=\"0 -960 960 960\">\n",
              "    <path d=\"M120-120v-720h720v720H120Zm60-500h600v-160H180v160Zm220 220h160v-160H400v160Zm0 220h160v-160H400v160ZM180-400h160v-160H180v160Zm440 0h160v-160H620v160ZM180-180h160v-160H180v160Zm440 0h160v-160H620v160Z\"/>\n",
              "  </svg>\n",
              "    </button>\n",
              "\n",
              "  <style>\n",
              "    .colab-df-container {\n",
              "      display:flex;\n",
              "      gap: 12px;\n",
              "    }\n",
              "\n",
              "    .colab-df-convert {\n",
              "      background-color: #E8F0FE;\n",
              "      border: none;\n",
              "      border-radius: 50%;\n",
              "      cursor: pointer;\n",
              "      display: none;\n",
              "      fill: #1967D2;\n",
              "      height: 32px;\n",
              "      padding: 0 0 0 0;\n",
              "      width: 32px;\n",
              "    }\n",
              "\n",
              "    .colab-df-convert:hover {\n",
              "      background-color: #E2EBFA;\n",
              "      box-shadow: 0px 1px 2px rgba(60, 64, 67, 0.3), 0px 1px 3px 1px rgba(60, 64, 67, 0.15);\n",
              "      fill: #174EA6;\n",
              "    }\n",
              "\n",
              "    .colab-df-buttons div {\n",
              "      margin-bottom: 4px;\n",
              "    }\n",
              "\n",
              "    [theme=dark] .colab-df-convert {\n",
              "      background-color: #3B4455;\n",
              "      fill: #D2E3FC;\n",
              "    }\n",
              "\n",
              "    [theme=dark] .colab-df-convert:hover {\n",
              "      background-color: #434B5C;\n",
              "      box-shadow: 0px 1px 3px 1px rgba(0, 0, 0, 0.15);\n",
              "      filter: drop-shadow(0px 1px 2px rgba(0, 0, 0, 0.3));\n",
              "      fill: #FFFFFF;\n",
              "    }\n",
              "  </style>\n",
              "\n",
              "    <script>\n",
              "      const buttonEl =\n",
              "        document.querySelector('#df-3da7b2ec-a6bf-4843-b48e-dd6331b27017 button.colab-df-convert');\n",
              "      buttonEl.style.display =\n",
              "        google.colab.kernel.accessAllowed ? 'block' : 'none';\n",
              "\n",
              "      async function convertToInteractive(key) {\n",
              "        const element = document.querySelector('#df-3da7b2ec-a6bf-4843-b48e-dd6331b27017');\n",
              "        const dataTable =\n",
              "          await google.colab.kernel.invokeFunction('convertToInteractive',\n",
              "                                                    [key], {});\n",
              "        if (!dataTable) return;\n",
              "\n",
              "        const docLinkHtml = 'Like what you see? Visit the ' +\n",
              "          '<a target=\"_blank\" href=https://colab.research.google.com/notebooks/data_table.ipynb>data table notebook</a>'\n",
              "          + ' to learn more about interactive tables.';\n",
              "        element.innerHTML = '';\n",
              "        dataTable['output_type'] = 'display_data';\n",
              "        await google.colab.output.renderOutput(dataTable, element);\n",
              "        const docLink = document.createElement('div');\n",
              "        docLink.innerHTML = docLinkHtml;\n",
              "        element.appendChild(docLink);\n",
              "      }\n",
              "    </script>\n",
              "  </div>\n",
              "\n",
              "\n",
              "<div id=\"df-46af6ba5-cd67-432e-8d9f-1a056081e7c5\">\n",
              "  <button class=\"colab-df-quickchart\" onclick=\"quickchart('df-46af6ba5-cd67-432e-8d9f-1a056081e7c5')\"\n",
              "            title=\"Suggest charts\"\n",
              "            style=\"display:none;\">\n",
              "\n",
              "<svg xmlns=\"http://www.w3.org/2000/svg\" height=\"24px\"viewBox=\"0 0 24 24\"\n",
              "     width=\"24px\">\n",
              "    <g>\n",
              "        <path d=\"M19 3H5c-1.1 0-2 .9-2 2v14c0 1.1.9 2 2 2h14c1.1 0 2-.9 2-2V5c0-1.1-.9-2-2-2zM9 17H7v-7h2v7zm4 0h-2V7h2v10zm4 0h-2v-4h2v4z\"/>\n",
              "    </g>\n",
              "</svg>\n",
              "  </button>\n",
              "\n",
              "<style>\n",
              "  .colab-df-quickchart {\n",
              "      --bg-color: #E8F0FE;\n",
              "      --fill-color: #1967D2;\n",
              "      --hover-bg-color: #E2EBFA;\n",
              "      --hover-fill-color: #174EA6;\n",
              "      --disabled-fill-color: #AAA;\n",
              "      --disabled-bg-color: #DDD;\n",
              "  }\n",
              "\n",
              "  [theme=dark] .colab-df-quickchart {\n",
              "      --bg-color: #3B4455;\n",
              "      --fill-color: #D2E3FC;\n",
              "      --hover-bg-color: #434B5C;\n",
              "      --hover-fill-color: #FFFFFF;\n",
              "      --disabled-bg-color: #3B4455;\n",
              "      --disabled-fill-color: #666;\n",
              "  }\n",
              "\n",
              "  .colab-df-quickchart {\n",
              "    background-color: var(--bg-color);\n",
              "    border: none;\n",
              "    border-radius: 50%;\n",
              "    cursor: pointer;\n",
              "    display: none;\n",
              "    fill: var(--fill-color);\n",
              "    height: 32px;\n",
              "    padding: 0;\n",
              "    width: 32px;\n",
              "  }\n",
              "\n",
              "  .colab-df-quickchart:hover {\n",
              "    background-color: var(--hover-bg-color);\n",
              "    box-shadow: 0 1px 2px rgba(60, 64, 67, 0.3), 0 1px 3px 1px rgba(60, 64, 67, 0.15);\n",
              "    fill: var(--button-hover-fill-color);\n",
              "  }\n",
              "\n",
              "  .colab-df-quickchart-complete:disabled,\n",
              "  .colab-df-quickchart-complete:disabled:hover {\n",
              "    background-color: var(--disabled-bg-color);\n",
              "    fill: var(--disabled-fill-color);\n",
              "    box-shadow: none;\n",
              "  }\n",
              "\n",
              "  .colab-df-spinner {\n",
              "    border: 2px solid var(--fill-color);\n",
              "    border-color: transparent;\n",
              "    border-bottom-color: var(--fill-color);\n",
              "    animation:\n",
              "      spin 1s steps(1) infinite;\n",
              "  }\n",
              "\n",
              "  @keyframes spin {\n",
              "    0% {\n",
              "      border-color: transparent;\n",
              "      border-bottom-color: var(--fill-color);\n",
              "      border-left-color: var(--fill-color);\n",
              "    }\n",
              "    20% {\n",
              "      border-color: transparent;\n",
              "      border-left-color: var(--fill-color);\n",
              "      border-top-color: var(--fill-color);\n",
              "    }\n",
              "    30% {\n",
              "      border-color: transparent;\n",
              "      border-left-color: var(--fill-color);\n",
              "      border-top-color: var(--fill-color);\n",
              "      border-right-color: var(--fill-color);\n",
              "    }\n",
              "    40% {\n",
              "      border-color: transparent;\n",
              "      border-right-color: var(--fill-color);\n",
              "      border-top-color: var(--fill-color);\n",
              "    }\n",
              "    60% {\n",
              "      border-color: transparent;\n",
              "      border-right-color: var(--fill-color);\n",
              "    }\n",
              "    80% {\n",
              "      border-color: transparent;\n",
              "      border-right-color: var(--fill-color);\n",
              "      border-bottom-color: var(--fill-color);\n",
              "    }\n",
              "    90% {\n",
              "      border-color: transparent;\n",
              "      border-bottom-color: var(--fill-color);\n",
              "    }\n",
              "  }\n",
              "</style>\n",
              "\n",
              "  <script>\n",
              "    async function quickchart(key) {\n",
              "      const quickchartButtonEl =\n",
              "        document.querySelector('#' + key + ' button');\n",
              "      quickchartButtonEl.disabled = true;  // To prevent multiple clicks.\n",
              "      quickchartButtonEl.classList.add('colab-df-spinner');\n",
              "      try {\n",
              "        const charts = await google.colab.kernel.invokeFunction(\n",
              "            'suggestCharts', [key], {});\n",
              "      } catch (error) {\n",
              "        console.error('Error during call to suggestCharts:', error);\n",
              "      }\n",
              "      quickchartButtonEl.classList.remove('colab-df-spinner');\n",
              "      quickchartButtonEl.classList.add('colab-df-quickchart-complete');\n",
              "    }\n",
              "    (() => {\n",
              "      let quickchartButtonEl =\n",
              "        document.querySelector('#df-46af6ba5-cd67-432e-8d9f-1a056081e7c5 button');\n",
              "      quickchartButtonEl.style.display =\n",
              "        google.colab.kernel.accessAllowed ? 'block' : 'none';\n",
              "    })();\n",
              "  </script>\n",
              "</div>\n",
              "    </div>\n",
              "  </div>\n"
            ],
            "application/vnd.google.colaboratory.intrinsic+json": {
              "type": "dataframe",
              "variable_name": "df"
            }
          },
          "metadata": {},
          "execution_count": 4
        }
      ],
      "source": [
        "df = pd.read_csv(DATASET_PATH)\n",
        "\n",
        "df.head()"
      ]
    },
    {
      "cell_type": "markdown",
      "metadata": {
        "id": "Tz-jh8-yZikp"
      },
      "source": [
        "**Выделение целевой переменной и групп признаков**"
      ]
    },
    {
      "cell_type": "code",
      "execution_count": 5,
      "metadata": {
        "id": "60UUXkdLZikq"
      },
      "outputs": [],
      "source": [
        "TARGET_NAME = 'NEXT_MONTH_DEFAULT'\n",
        "BASE_FEATURE_NAMES = df.columns.drop(TARGET_NAME).tolist()\n",
        "\n",
        "NUM_FEATURE_NAMES = ['LIMIT_BAL', 'AGE',\n",
        "                     'BILL_AMT1', 'BILL_AMT2', 'BILL_AMT3', 'BILL_AMT4', 'BILL_AMT5', 'BILL_AMT6',\n",
        "                     'PAY_AMT1', 'PAY_AMT2', 'PAY_AMT3', 'PAY_AMT4', 'PAY_AMT5', 'PAY_AMT6']\n",
        "\n",
        "CAT_FEATURE_NAMES = ['SEX', 'EDUCATION', 'MARRIAGE', 'PAY_1', 'PAY_2', 'PAY_3', 'PAY_4', 'PAY_5', 'PAY_6']"
      ]
    },
    {
      "cell_type": "markdown",
      "metadata": {
        "id": "Hdfx0jA1Zikz"
      },
      "source": [
        "**Корреляция с базовыми признаками**"
      ]
    },
    {
      "cell_type": "code",
      "execution_count": 6,
      "metadata": {
        "colab": {
          "base_uri": "https://localhost:8080/",
          "height": 719
        },
        "id": "zMV_QZ2uZik3",
        "outputId": "810b292a-7838-47d2-95a1-be0864df65d6"
      },
      "outputs": [
        {
          "output_type": "display_data",
          "data": {
            "text/plain": [
              "<Figure size 1000x800 with 1 Axes>"
            ],
            "image/png": "[encoded data removed]"
          },
          "metadata": {}
        }
      ],
      "source": [
        "corr_with_target = df[\n",
        "    BASE_FEATURE_NAMES + [TARGET_NAME]\n",
        "].corr().iloc[:-1, -1].sort_values(ascending=False)\n",
        "\n",
        "plt.figure(figsize=(10, 8))\n",
        "\n",
        "sns.barplot(x=corr_with_target.values, y=corr_with_target.index)\n",
        "\n",
        "plt.title('Correlation with target variable')\n",
        "plt.show()"
      ]
    },
    {
      "cell_type": "markdown",
      "metadata": {
        "id": "WtE51aMuZik5"
      },
      "source": [
        "**Оценка признака \"PAY_1\" в разрезе целевой переменной**"
      ]
    },
    {
      "cell_type": "code",
      "execution_count": 7,
      "metadata": {
        "colab": {
          "base_uri": "https://localhost:8080/",
          "height": 584
        },
        "id": "UAmkcoQkZik7",
        "outputId": "a9b70534-73b8-48ff-efc1-524a2f9d6620"
      },
      "outputs": [
        {
          "output_type": "display_data",
          "data": {
            "text/plain": [
              "<Figure size 800x600 with 1 Axes>"
            ],
            "image/png": "[encoded data removed]"
          },
          "metadata": {}
        }
      ],
      "source": [
        "plt.figure(figsize=(8, 6))\n",
        "\n",
        "sns.countplot(x=\"PAY_1\", hue=TARGET_NAME, data=df)\n",
        "plt.title('PAY_1 grouped by target variable')\n",
        "plt.legend(title='Target', loc='upper right')\n",
        "\n",
        "plt.show()"
      ]
    },
    {
      "cell_type": "markdown",
      "metadata": {
        "id": "yX7mTbNkZik-"
      },
      "source": [
        "**Наблюдение**\n",
        "\n",
        "Изучив получившийся график, видно, что значения -1 (погашен полностью) и 0 (погашен частично) признака PAY_1 имеют схожие доли в разрезе целевой переменной. Если это действительно так, то можно будет, например, объединить их в одну категорию.\n",
        "\n",
        "**Гипотеза**\n",
        "\n",
        "* Нулевая гипотеза: ожидаемые и наблюдаемые частоты согласованы\n",
        "* Альтернативная гипотеза: отклонения в частотах выходят за рамки случайных колебаний, расхождения статистически значимы\n",
        "* Критерий: Хи-квадрат Пирсона\n",
        "* Уровень значимости $\\normalsize \\alpha$: 0.05\n",
        "\n",
        "Для проверки данной гипотезы необходимо подать наблюдаемые частоты категорий -1 и 0 признака PAY_1 в выбранный критерий, после чего оценить значение достигаемого уровня значимости p-value и сравнить с его с выбранным порогом альфа, если p-value получится больше выбранного порога, то гипотезу о согласованности частот можно не отбрасывать."
      ]
    },
    {
      "cell_type": "markdown",
      "metadata": {
        "id": "S0HcyQZ1Zik_"
      },
      "source": [
        "*Рассчитаем наблюдаемые частоты*"
      ]
    },
    {
      "cell_type": "code",
      "execution_count": 8,
      "metadata": {
        "id": "zAFlxTxFZilA"
      },
      "outputs": [],
      "source": [
        "df['Id'] = df.index\n",
        "pay1_and_target_s = df.loc[df['PAY_1'].isin([0, -1]), ['Id', 'PAY_1', 'NEXT_MONTH_DEFAULT']]"
      ]
    },
    {
      "cell_type": "code",
      "execution_count": 9,
      "metadata": {
        "colab": {
          "base_uri": "https://localhost:8080/",
          "height": 163
        },
        "id": "niajTdbKZilE",
        "outputId": "091c0344-cc6e-4ce3-d345-8fcbd3e5d83c"
      },
      "outputs": [
        {
          "output_type": "execute_result",
          "data": {
            "text/plain": [
              "NEXT_MONTH_DEFAULT     0    1\n",
              "PAY_1                        \n",
              "-1                  2413  439\n",
              " 0                  4266  629"
            ],
            "text/html": [
              "\n",
              "  <div id=\"df-e9d4dd61-4e46-475b-9c25-6789cf4d66f5\" class=\"colab-df-container\">\n",
              "    <div>\n",
              "<style scoped>\n",
              "    .dataframe tbody tr th:only-of-type {\n",
              "        vertical-align: middle;\n",
              "    }\n",
              "\n",
              "    .dataframe tbody tr th {\n",
              "        vertical-align: top;\n",
              "    }\n",
              "\n",
              "    .dataframe thead th {\n",
              "        text-align: right;\n",
              "    }\n",
              "</style>\n",
              "<table border=\"1\" class=\"dataframe\">\n",
              "  <thead>\n",
              "    <tr style=\"text-align: right;\">\n",
              "      <th>NEXT_MONTH_DEFAULT</th>\n",
              "      <th>0</th>\n",
              "      <th>1</th>\n",
              "    </tr>\n",
              "    <tr>\n",
              "      <th>PAY_1</th>\n",
              "      <th></th>\n",
              "      <th></th>\n",
              "    </tr>\n",
              "  </thead>\n",
              "  <tbody>\n",
              "    <tr>\n",
              "      <th>-1</th>\n",
              "      <td>2413</td>\n",
              "      <td>439</td>\n",
              "    </tr>\n",
              "    <tr>\n",
              "      <th>0</th>\n",
              "      <td>4266</td>\n",
              "      <td>629</td>\n",
              "    </tr>\n",
              "  </tbody>\n",
              "</table>\n",
              "</div>\n",
              "    <div class=\"colab-df-buttons\">\n",
              "\n",
              "  <div class=\"colab-df-container\">\n",
              "    <button class=\"colab-df-convert\" onclick=\"convertToInteractive('df-e9d4dd61-4e46-475b-9c25-6789cf4d66f5')\"\n",
              "            title=\"Convert this dataframe to an interactive table.\"\n",
              "            style=\"display:none;\">\n",
              "\n",
              "  <svg xmlns=\"http://www.w3.org/2000/svg\" height=\"24px\" viewBox=\"0 -960 960 960\">\n",
              "    <path d=\"M120-120v-720h720v720H120Zm60-500h600v-160H180v160Zm220 220h160v-160H400v160Zm0 220h160v-160H400v160ZM180-400h160v-160H180v160Zm440 0h160v-160H620v160ZM180-180h160v-160H180v160Zm440 0h160v-160H620v160Z\"/>\n",
              "  </svg>\n",
              "    </button>\n",
              "\n",
              "  <style>\n",
              "    .colab-df-container {\n",
              "      display:flex;\n",
              "      gap: 12px;\n",
              "    }\n",
              "\n",
              "    .colab-df-convert {\n",
              "      background-color: #E8F0FE;\n",
              "      border: none;\n",
              "      border-radius: 50%;\n",
              "      cursor: pointer;\n",
              "      display: none;\n",
              "      fill: #1967D2;\n",
              "      height: 32px;\n",
              "      padding: 0 0 0 0;\n",
              "      width: 32px;\n",
              "    }\n",
              "\n",
              "    .colab-df-convert:hover {\n",
              "      background-color: #E2EBFA;\n",
              "      box-shadow: 0px 1px 2px rgba(60, 64, 67, 0.3), 0px 1px 3px 1px rgba(60, 64, 67, 0.15);\n",
              "      fill: #174EA6;\n",
              "    }\n",
              "\n",
              "    .colab-df-buttons div {\n",
              "      margin-bottom: 4px;\n",
              "    }\n",
              "\n",
              "    [theme=dark] .colab-df-convert {\n",
              "      background-color: #3B4455;\n",
              "      fill: #D2E3FC;\n",
              "    }\n",
              "\n",
              "    [theme=dark] .colab-df-convert:hover {\n",
              "      background-color: #434B5C;\n",
              "      box-shadow: 0px 1px 3px 1px rgba(0, 0, 0, 0.15);\n",
              "      filter: drop-shadow(0px 1px 2px rgba(0, 0, 0, 0.3));\n",
              "      fill: #FFFFFF;\n",
              "    }\n",
              "  </style>\n",
              "\n",
              "    <script>\n",
              "      const buttonEl =\n",
              "        document.querySelector('#df-e9d4dd61-4e46-475b-9c25-6789cf4d66f5 button.colab-df-convert');\n",
              "      buttonEl.style.display =\n",
              "        google.colab.kernel.accessAllowed ? 'block' : 'none';\n",
              "\n",
              "      async function convertToInteractive(key) {\n",
              "        const element = document.querySelector('#df-e9d4dd61-4e46-475b-9c25-6789cf4d66f5');\n",
              "        const dataTable =\n",
              "          await google.colab.kernel.invokeFunction('convertToInteractive',\n",
              "                                                    [key], {});\n",
              "        if (!dataTable) return;\n",
              "\n",
              "        const docLinkHtml = 'Like what you see? Visit the ' +\n",
              "          '<a target=\"_blank\" href=https://colab.research.google.com/notebooks/data_table.ipynb>data table notebook</a>'\n",
              "          + ' to learn more about interactive tables.';\n",
              "        element.innerHTML = '';\n",
              "        dataTable['output_type'] = 'display_data';\n",
              "        await google.colab.output.renderOutput(dataTable, element);\n",
              "        const docLink = document.createElement('div');\n",
              "        docLink.innerHTML = docLinkHtml;\n",
              "        element.appendChild(docLink);\n",
              "      }\n",
              "    </script>\n",
              "  </div>\n",
              "\n",
              "\n",
              "<div id=\"df-9eac1a71-d1d7-4059-b62c-ffc615892d44\">\n",
              "  <button class=\"colab-df-quickchart\" onclick=\"quickchart('df-9eac1a71-d1d7-4059-b62c-ffc615892d44')\"\n",
              "            title=\"Suggest charts\"\n",
              "            style=\"display:none;\">\n",
              "\n",
              "<svg xmlns=\"http://www.w3.org/2000/svg\" height=\"24px\"viewBox=\"0 0 24 24\"\n",
              "     width=\"24px\">\n",
              "    <g>\n",
              "        <path d=\"M19 3H5c-1.1 0-2 .9-2 2v14c0 1.1.9 2 2 2h14c1.1 0 2-.9 2-2V5c0-1.1-.9-2-2-2zM9 17H7v-7h2v7zm4 0h-2V7h2v10zm4 0h-2v-4h2v4z\"/>\n",
              "    </g>\n",
              "</svg>\n",
              "  </button>\n",
              "\n",
              "<style>\n",
              "  .colab-df-quickchart {\n",
              "      --bg-color: #E8F0FE;\n",
              "      --fill-color: #1967D2;\n",
              "      --hover-bg-color: #E2EBFA;\n",
              "      --hover-fill-color: #174EA6;\n",
              "      --disabled-fill-color: #AAA;\n",
              "      --disabled-bg-color: #DDD;\n",
              "  }\n",
              "\n",
              "  [theme=dark] .colab-df-quickchart {\n",
              "      --bg-color: #3B4455;\n",
              "      --fill-color: #D2E3FC;\n",
              "      --hover-bg-color: #434B5C;\n",
              "      --hover-fill-color: #FFFFFF;\n",
              "      --disabled-bg-color: #3B4455;\n",
              "      --disabled-fill-color: #666;\n",
              "  }\n",
              "\n",
              "  .colab-df-quickchart {\n",
              "    background-color: var(--bg-color);\n",
              "    border: none;\n",
              "    border-radius: 50%;\n",
              "    cursor: pointer;\n",
              "    display: none;\n",
              "    fill: var(--fill-color);\n",
              "    height: 32px;\n",
              "    padding: 0;\n",
              "    width: 32px;\n",
              "  }\n",
              "\n",
              "  .colab-df-quickchart:hover {\n",
              "    background-color: var(--hover-bg-color);\n",
              "    box-shadow: 0 1px 2px rgba(60, 64, 67, 0.3), 0 1px 3px 1px rgba(60, 64, 67, 0.15);\n",
              "    fill: var(--button-hover-fill-color);\n",
              "  }\n",
              "\n",
              "  .colab-df-quickchart-complete:disabled,\n",
              "  .colab-df-quickchart-complete:disabled:hover {\n",
              "    background-color: var(--disabled-bg-color);\n",
              "    fill: var(--disabled-fill-color);\n",
              "    box-shadow: none;\n",
              "  }\n",
              "\n",
              "  .colab-df-spinner {\n",
              "    border: 2px solid var(--fill-color);\n",
              "    border-color: transparent;\n",
              "    border-bottom-color: var(--fill-color);\n",
              "    animation:\n",
              "      spin 1s steps(1) infinite;\n",
              "  }\n",
              "\n",
              "  @keyframes spin {\n",
              "    0% {\n",
              "      border-color: transparent;\n",
              "      border-bottom-color: var(--fill-color);\n",
              "      border-left-color: var(--fill-color);\n",
              "    }\n",
              "    20% {\n",
              "      border-color: transparent;\n",
              "      border-left-color: var(--fill-color);\n",
              "      border-top-color: var(--fill-color);\n",
              "    }\n",
              "    30% {\n",
              "      border-color: transparent;\n",
              "      border-left-color: var(--fill-color);\n",
              "      border-top-color: var(--fill-color);\n",
              "      border-right-color: var(--fill-color);\n",
              "    }\n",
              "    40% {\n",
              "      border-color: transparent;\n",
              "      border-right-color: var(--fill-color);\n",
              "      border-top-color: var(--fill-color);\n",
              "    }\n",
              "    60% {\n",
              "      border-color: transparent;\n",
              "      border-right-color: var(--fill-color);\n",
              "    }\n",
              "    80% {\n",
              "      border-color: transparent;\n",
              "      border-right-color: var(--fill-color);\n",
              "      border-bottom-color: var(--fill-color);\n",
              "    }\n",
              "    90% {\n",
              "      border-color: transparent;\n",
              "      border-bottom-color: var(--fill-color);\n",
              "    }\n",
              "  }\n",
              "</style>\n",
              "\n",
              "  <script>\n",
              "    async function quickchart(key) {\n",
              "      const quickchartButtonEl =\n",
              "        document.querySelector('#' + key + ' button');\n",
              "      quickchartButtonEl.disabled = true;  // To prevent multiple clicks.\n",
              "      quickchartButtonEl.classList.add('colab-df-spinner');\n",
              "      try {\n",
              "        const charts = await google.colab.kernel.invokeFunction(\n",
              "            'suggestCharts', [key], {});\n",
              "      } catch (error) {\n",
              "        console.error('Error during call to suggestCharts:', error);\n",
              "      }\n",
              "      quickchartButtonEl.classList.remove('colab-df-spinner');\n",
              "      quickchartButtonEl.classList.add('colab-df-quickchart-complete');\n",
              "    }\n",
              "    (() => {\n",
              "      let quickchartButtonEl =\n",
              "        document.querySelector('#df-9eac1a71-d1d7-4059-b62c-ffc615892d44 button');\n",
              "      quickchartButtonEl.style.display =\n",
              "        google.colab.kernel.accessAllowed ? 'block' : 'none';\n",
              "    })();\n",
              "  </script>\n",
              "</div>\n",
              "    </div>\n",
              "  </div>\n"
            ],
            "application/vnd.google.colaboratory.intrinsic+json": {
              "type": "dataframe",
              "variable_name": "table",
              "summary": "{\n  \"name\": \"table\",\n  \"rows\": 2,\n  \"fields\": [\n    {\n      \"column\": \"PAY_1\",\n      \"properties\": {\n        \"dtype\": \"number\",\n        \"std\": 0,\n        \"min\": -1,\n        \"max\": 0,\n        \"num_unique_values\": 2,\n        \"samples\": [\n          0,\n          -1\n        ],\n        \"semantic_type\": \"\",\n        \"description\": \"\"\n      }\n    },\n    {\n      \"column\": 0,\n      \"properties\": {\n        \"dtype\": \"number\",\n        \"std\": 1310,\n        \"min\": 2413,\n        \"max\": 4266,\n        \"num_unique_values\": 2,\n        \"samples\": [\n          4266,\n          2413\n        ],\n        \"semantic_type\": \"\",\n        \"description\": \"\"\n      }\n    },\n    {\n      \"column\": 1,\n      \"properties\": {\n        \"dtype\": \"number\",\n        \"std\": 134,\n        \"min\": 439,\n        \"max\": 629,\n        \"num_unique_values\": 2,\n        \"samples\": [\n          629,\n          439\n        ],\n        \"semantic_type\": \"\",\n        \"description\": \"\"\n      }\n    }\n  ]\n}"
            }
          },
          "metadata": {},
          "execution_count": 9
        }
      ],
      "source": [
        "table = pay1_and_target_s.pivot_table(values='Id', index='PAY_1', columns='NEXT_MONTH_DEFAULT', aggfunc='count')\n",
        "table"
      ]
    },
    {
      "cell_type": "markdown",
      "metadata": {
        "id": "NuIodvVkZilI"
      },
      "source": [
        "*Проверим нашу гипотезу, используя критерий Хи-квадрат Пирсона*"
      ]
    },
    {
      "cell_type": "code",
      "execution_count": 10,
      "metadata": {
        "colab": {
          "base_uri": "https://localhost:8080/"
        },
        "id": "nz99oQp5ZilJ",
        "outputId": "7b6f2fbc-6ca6-4bf7-ce8b-1a8d6caa58f2"
      },
      "outputs": [
        {
          "output_type": "execute_result",
          "data": {
            "text/plain": [
              "0.001955227349870234"
            ]
          },
          "metadata": {},
          "execution_count": 10
        }
      ],
      "source": [
        "chi2, p, _, _ = chi2_contingency(table)\n",
        "p"
      ]
    },
    {
      "cell_type": "code",
      "execution_count": 11,
      "metadata": {
        "colab": {
          "base_uri": "https://localhost:8080/"
        },
        "id": "ow4brzceWdY8",
        "outputId": "46037f90-e17b-45df-d732-d93d526ce05f"
      },
      "outputs": [
        {
          "output_type": "execute_result",
          "data": {
            "text/plain": [
              "0.7365984943034862"
            ]
          },
          "metadata": {},
          "execution_count": 11
        }
      ],
      "source": [
        "pay1_and_target = df.loc[df['PAY_1'].isin([2, 3]), ['Id', 'PAY_1', 'NEXT_MONTH_DEFAULT']]\n",
        "table = pay1_and_target.pivot_table(values='Id', index='PAY_1', columns='NEXT_MONTH_DEFAULT', aggfunc='count')\n",
        "\n",
        "chi2, p, _, _ = chi2_contingency(table)\n",
        "p"
      ]
    },
    {
      "cell_type": "markdown",
      "metadata": {
        "id": "kdveqFv9ZilL"
      },
      "source": [
        "P-value получилось больше выбранного уровня значимости, соответственно у нас нет оснований для отвержения нулевой гипотезы и можно допустить, что категории 2 и 3 одинаково влияют на целевую переменную и их можно объединить в одну категорию.\n",
        "\n",
        "\\*Для других признаков PAY_2, PAY_3, и т.д. следует провести аналогичный анализ и после этого решать о целесообразности изменения категорий или построения новых признаков."
      ]
    },
    {
      "cell_type": "markdown",
      "metadata": {
        "id": "Cs4KMv6yZilL"
      },
      "source": [
        "**Оценка признака \"LIMIT_BAL\" в разрезе целевой переменной**"
      ]
    },
    {
      "cell_type": "code",
      "execution_count": 12,
      "metadata": {
        "colab": {
          "base_uri": "https://localhost:8080/",
          "height": 507
        },
        "id": "viCLOIM9ZilM",
        "outputId": "815cb544-d452-42a9-d79c-cf6f5db01234"
      },
      "outputs": [
        {
          "output_type": "display_data",
          "data": {
            "text/plain": [
              "<Figure size 800x500 with 1 Axes>"
            ],
            "image/png": "[encoded data removed]"
          },
          "metadata": {}
        }
      ],
      "source": [
        "limit_bal_with_target = df[['LIMIT_BAL', TARGET_NAME]]\n",
        "limit_bal = limit_bal_with_target['LIMIT_BAL']\n",
        "limit_bal_target_0 = limit_bal[limit_bal_with_target[TARGET_NAME] == 0]\n",
        "limit_bal_target_1 = limit_bal[limit_bal_with_target[TARGET_NAME] == 1]\n",
        "\n",
        "plt.figure(figsize=(8, 5))\n",
        "\n",
        "sns.kdeplot(limit_bal_target_0, fill=True, label='Нет просрочки', color='g')\n",
        "sns.kdeplot(limit_bal_target_1, fill=True, label='Просрочка', color='r')\n",
        "\n",
        "plt.xlabel('LIMIT_BAL')\n",
        "plt.title('LIMIT_BAL grouped by target variable')\n",
        "plt.show()"
      ]
    },
    {
      "cell_type": "markdown",
      "metadata": {
        "id": "nTMHOsUVZilO"
      },
      "source": [
        "**Наблюдение**\n",
        "\n",
        "Похоже что две группы, полученные в результате разбиения признака \"LIMIT_BAL\" по целевой переменной, имеют различные распределения, что может помочь при построение модели, т.к. это будет означать, что между признаком \"LIMIT_BAL\" и целевой переменной, возможно, существует некоторая функциональная зависимость.\n",
        "\n",
        "**Гипотеза**\n",
        "* Нулевая гипотеза: средние значения в двух независимых выборках равны\n",
        "* Альтернативная гипотеза: средние значения в двух независимых выборках различаются\n",
        "* Критерий: критерий Стьюдента (t-тест) и его аналоги\n",
        "* Уровень значимости $\\normalsize \\alpha$: 0.05\n",
        "\n",
        "Что бы проверить данную гипотезу сравним две выборки из рассматриваемых групп на предмет равенства средних значений.\n",
        "Если вероятность того, что мат. ожидания в исходных группах равны, при данных выборках, будет менее 5%, то можно будет говорить о том, что скорее всего выборки имеют различные распределения."
      ]
    },
    {
      "cell_type": "markdown",
      "metadata": {
        "id": "moS-zg4QZilP"
      },
      "source": [
        "*Проверка распределения признака на \"нормальность\" с помощью критерия Шапиро-Уилка*"
      ]
    },
    {
      "cell_type": "code",
      "execution_count": 13,
      "metadata": {
        "colab": {
          "base_uri": "https://localhost:8080/"
        },
        "id": "rgdRUqSSZilP",
        "outputId": "d7d188c9-9d96-43ea-cbd4-11f253c5aea9"
      },
      "outputs": [
        {
          "output_type": "stream",
          "name": "stderr",
          "text": [
            "/usr/local/lib/python3.10/dist-packages/scipy/stats/_morestats.py:1882: UserWarning: p-value may not be accurate for N > 5000.\n",
            "  warnings.warn(\"p-value may not be accurate for N > 5000.\")\n"
          ]
        },
        {
          "output_type": "execute_result",
          "data": {
            "text/plain": [
              "ShapiroResult(statistic=0.9079188704490662, pvalue=0.0)"
            ]
          },
          "metadata": {},
          "execution_count": 13
        }
      ],
      "source": [
        "shapiro(limit_bal)"
      ]
    },
    {
      "cell_type": "markdown",
      "metadata": {
        "id": "zw447F_nZilS"
      },
      "source": [
        "По полученному значению p-value, которое сильно меньше 0.05, можем заключить, что гипотеза о \"нормальности\" отвергается."
      ]
    },
    {
      "cell_type": "markdown",
      "metadata": {
        "id": "BSreF5l8ZilT"
      },
      "source": [
        "*Для достоверности произведём визуальную оценку распределения признака, а так же построим QQ-график*"
      ]
    },
    {
      "cell_type": "code",
      "execution_count": 14,
      "metadata": {
        "colab": {
          "base_uri": "https://localhost:8080/",
          "height": 558
        },
        "id": "ShIPzauHZilU",
        "outputId": "796f34cd-6e5d-4421-eec3-dd51a364c27f"
      },
      "outputs": [
        {
          "output_type": "display_data",
          "data": {
            "text/plain": [
              "<Figure size 1500x600 with 2 Axes>"
            ],
            "image/png": "[encoded data removed]"
          },
          "metadata": {}
        }
      ],
      "source": [
        "plt.figure(figsize=(15, 6))\n",
        "\n",
        "ax1 = plt.subplot(121)\n",
        "ax1.set_xlabel('LIMIT_BAL')\n",
        "ax1.set_ylabel('Count')\n",
        "ax1.set_title('LIMIT_BAL distribution')\n",
        "limit_bal.hist()\n",
        "\n",
        "plt.subplot(122)\n",
        "probplot(limit_bal, dist='norm', plot=plt)\n",
        "\n",
        "plt.show()"
      ]
    },
    {
      "cell_type": "markdown",
      "metadata": {
        "id": "YWcwyLNyWdZB"
      },
      "source": [
        "<img src='https://drive.google.com/uc?id=1bwVeEiZ99r1LgfA_9v-60z7EZhswXlcD' width=400px>"
      ]
    },
    {
      "cell_type": "markdown",
      "metadata": {
        "id": "aEJo4-yGZilW"
      },
      "source": [
        "Визуальная оценка подтверждает показания критерия Шапиро-Уилка по поводу того, что закон распределения отличный от \"нормального\", в связи с чем, мы не сможем воспользоваться критерием Стьюдента для проверки гипотезы о равности мат. ожиданий признака LIMIT_BAL в группах с просроченным и непросроченным платежом в следующем месяце, но мы сможем воспользоваться его непараметрическим аналогом - критерием Манна-Уитни, который не требователен к закону распределения."
      ]
    },
    {
      "cell_type": "markdown",
      "metadata": {
        "id": "HiEx_udEZilX"
      },
      "source": [
        "*Оценим эквивалентность мат. ожадиний, в исследуемых группах, с помощью критерия Манна-Уитни*"
      ]
    },
    {
      "cell_type": "code",
      "execution_count": 15,
      "metadata": {
        "colab": {
          "base_uri": "https://localhost:8080/"
        },
        "id": "Pv44vtxjZilX",
        "outputId": "1dc716f3-3e40-4192-fc2f-0008c85e7c77"
      },
      "outputs": [
        {
          "output_type": "execute_result",
          "data": {
            "text/plain": [
              "MannwhitneyuResult(statistic=10517456.0, pvalue=4.1512416161734666e-60)"
            ]
          },
          "metadata": {},
          "execution_count": 15
        }
      ],
      "source": [
        "mannwhitneyu(limit_bal_target_0, limit_bal_target_1)"
      ]
    },
    {
      "cell_type": "markdown",
      "metadata": {
        "id": "l4qWErJ0Zilc"
      },
      "source": [
        "Согласно значению p-value, гипотеза о равности мат. ожиданий отвергается, но стоит ради дополнительной проверки обратиться к доверительным интервалам."
      ]
    },
    {
      "cell_type": "markdown",
      "metadata": {
        "id": "JwaTo4v4Zild"
      },
      "source": [
        "*Построим доверительные интервалы для средних значений, каждой из двух групп и сравним их*"
      ]
    },
    {
      "cell_type": "code",
      "execution_count": 18,
      "metadata": {
        "colab": {
          "base_uri": "https://localhost:8080/",
          "height": 507
        },
        "id": "gI3uj70hZile",
        "outputId": "d8f746d6-4c6f-4f4a-be26-2c69ba115859"
      },
      "outputs": [
        {
          "output_type": "display_data",
          "data": {
            "text/plain": [
              "<Figure size 800x500 with 1 Axes>"
            ],
            "image/png": "[encoded data removed]"
          },
          "metadata": {}
        }
      ],
      "source": [
        "plt.figure(figsize=(8, 5))\n",
        "\n",
        "sns.pointplot(x=TARGET_NAME, y='LIMIT_BAL', data=limit_bal_with_target, capsize=.1)\n",
        "\n",
        "plt.title('Confidence intervals (95 %) for LIMIT_BAL')\n",
        "plt.show()"
      ]
    },
    {
      "cell_type": "markdown",
      "metadata": {
        "id": "JR_QGJjJZilg"
      },
      "source": [
        "По данному графику так же видно, что интервалы, в которых с 95% вероятностью должны находится истинные мат. ожидания этих двух групп, не пересекаются, что подтверждает результаты полученные с помощью критерия Манна-Уитни.\n",
        "\n",
        "Это означает, что группы из которых взяты данные выборки, с допускаемой нами вероятностью (95%), имеют различные распределения и этот признак может быть полезен для определения значения целевой переменной."
      ]
    },
    {
      "cell_type": "markdown",
      "metadata": {
        "id": "OwmLoThLWdZD"
      },
      "source": [
        "**Оценка признака \"PAY_AMT\" в разрезе целевой переменной**"
      ]
    },
    {
      "cell_type": "code",
      "execution_count": 19,
      "metadata": {
        "id": "rwSDIqrWWdZE"
      },
      "outputs": [],
      "source": [
        "PAY_AMT = 'PAY_AMT6'\n",
        "\n",
        "pay_amt_with_target = df[[PAY_AMT, TARGET_NAME]]\n",
        "pay_amt = pay_amt_with_target[PAY_AMT]\n",
        "pay_amt_target_0 = pay_amt[pay_amt_with_target[TARGET_NAME] == 0]\n",
        "pay_amt_target_1 = pay_amt[pay_amt_with_target[TARGET_NAME] == 1]"
      ]
    },
    {
      "cell_type": "code",
      "execution_count": 20,
      "metadata": {
        "colab": {
          "base_uri": "https://localhost:8080/"
        },
        "id": "i1W32gxwWdZE",
        "outputId": "841af021-8cfa-48ee-d4e1-db652b4baad0"
      },
      "outputs": [
        {
          "output_type": "execute_result",
          "data": {
            "text/plain": [
              "MannwhitneyuResult(statistic=10099963.0, pvalue=3.2950774152310313e-38)"
            ]
          },
          "metadata": {},
          "execution_count": 20
        }
      ],
      "source": [
        "mannwhitneyu(pay_amt_target_0, pay_amt_target_1)"
      ]
    },
    {
      "cell_type": "code",
      "execution_count": 21,
      "metadata": {
        "colab": {
          "base_uri": "https://localhost:8080/",
          "height": 507
        },
        "id": "F5NXHExpWdZE",
        "outputId": "94fe729c-b0aa-4e5d-d0de-28e0113cd696"
      },
      "outputs": [
        {
          "output_type": "display_data",
          "data": {
            "text/plain": [
              "<Figure size 800x500 with 1 Axes>"
            ],
            "image/png": "[encoded data removed]"
          },
          "metadata": {}
        }
      ],
      "source": [
        "plt.figure(figsize=(8, 5))\n",
        "\n",
        "sns.pointplot(x=TARGET_NAME, y=PAY_AMT, data=pay_amt_with_target, capsize=.1)\n",
        "\n",
        "plt.title(f'Confidence intervals (95 %) for {PAY_AMT}')\n",
        "plt.show()"
      ]
    }
  ],
  "metadata": {
    "colab": {
      "provenance": [],
      "toc_visible": true
    },
    "kernelspec": {
      "display_name": "Python 3",
      "language": "python",
      "name": "python3"
    },
    "language_info": {
      "codemirror_mode": {
        "name": "ipython",
        "version": 3
      },
      "file_extension": ".py",
      "mimetype": "text/x-python",
      "name": "python",
      "nbconvert_exporter": "python",
      "pygments_lexer": "ipython3",
      "version": "3.8.10"
    }
  },
  "nbformat": 4,
  "nbformat_minor": 0
}